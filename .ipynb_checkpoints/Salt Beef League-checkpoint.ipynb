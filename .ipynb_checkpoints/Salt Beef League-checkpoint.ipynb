{
 "cells": [
  {
   "cell_type": "code",
   "execution_count": 134,
   "metadata": {},
   "outputs": [],
   "source": [
    "import requests\n",
    "import matplotlib.pyplot as plt\n",
    "%matplotlib inline"
   ]
  },
  {
   "cell_type": "code",
   "execution_count": 135,
   "metadata": {},
   "outputs": [],
   "source": [
    "user_ids = { 'sol': '598f8e9a-af62-48e9-ac88-ae641071794d', 'phil': 'b64cd765-6564-41b0-8cfd-4e5b4721505e', 'jonny': '75406c71-6aa2-4ac5-801f-e87bd267613c', 'sam': '22c1c71f-d18a-455f-ad07-4263dbf0cacc', 'jacob': 'fce60643-3310-4e18-9e19-e5bc647df7a9', 'lila': '06ea1097-369b-40e2-8cf8-159265dfa708'}"
   ]
  },
  {
   "cell_type": "code",
   "execution_count": 136,
   "metadata": {},
   "outputs": [],
   "source": [
    "# Get auth token\n",
    "url = 'https://iknowthescore.co.uk/engage/resources/players/auth'\n",
    "headers = {'content-type': 'application/vnd.api+json; charset=UTF-8'}\n",
    "data = '{\"data\":{\"type\":\"credentials\",\"attributes\":{\"username\":\"solomonabrahams100@gmail.com\",\"password\":\"Abrahams100\"}}}'\n",
    "r = requests.post(url, data=data, headers=headers)\n",
    "token = 'Bearer ' + r.json()['data']['id']"
   ]
  },
  {
   "cell_type": "code",
   "execution_count": 137,
   "metadata": {},
   "outputs": [],
   "source": [
    "data = {'authorization': token}"
   ]
  },
  {
   "cell_type": "code",
   "execution_count": 138,
   "metadata": {},
   "outputs": [
    {
     "name": "stdout",
     "output_type": "stream",
     "text": [
      "1\n",
      "2\n",
      "3\n",
      "4\n",
      "5\n",
      "6\n",
      "7\n",
      "8\n",
      "9\n",
      "10\n",
      "11\n",
      "12\n",
      "13\n",
      "14\n",
      "15\n",
      "16\n",
      "17\n",
      "18\n",
      "19\n",
      "20\n",
      "21\n",
      "22\n",
      "23\n",
      "24\n",
      "25\n",
      "26\n",
      "27\n"
     ]
    }
   ],
   "source": [
    "preds = {'sol':{}, 'phil':{}, 'jonny':{}, 'lila':{}, 'jacob':{}, 'sam':{}}\n",
    "for n in range(1,28):\n",
    "    print(n)\n",
    "    for key, value in user_ids.items():\n",
    "        url = 'https://iknowthescore.co.uk/engage/resources/predictions/EN_PR/'+str(n)+'/'+value+'?page[size]=10000'\n",
    "        r = requests.get(url, headers = data)\n",
    "        res_json = r.json()\n",
    "        preds[key][n] = res_json"
   ]
  },
  {
   "cell_type": "code",
   "execution_count": 139,
   "metadata": {},
   "outputs": [],
   "source": [
    "import pandas as pd"
   ]
  },
  {
   "cell_type": "code",
   "execution_count": 140,
   "metadata": {},
   "outputs": [],
   "source": [
    "columns = ['homeTeam', 'awayTeam', 'finalHomeScore', 'finalAwayScore', 'solHomePred', 'solAwayPred', 'solPoints', 'philHomePred', 'philAwayPred','philPoints', 'jonnyHomePred', 'jonnyAwayPred','jonnyPoints', 'lilaHomePred', 'lilaAwayPred', 'lilaPoints','jacobHomePred','jacobAwayPred', 'jacobPoints','samHomePred','samAwayPred', 'samPoints','bankerMult']\n",
    "preds_df = pd.DataFrame(columns=columns)"
   ]
  },
  {
   "cell_type": "code",
   "execution_count": 141,
   "metadata": {},
   "outputs": [],
   "source": [
    "for n in range(1,28):\n",
    "    # First create rows with home and away team names and final scores\n",
    "    init_end = int(len(preds['sol'][n]['included'])/4)\n",
    "    for x in range(0, init_end):\n",
    "        game = preds['sol'][n]['included'][x]\n",
    "        bankerMult = preds['sol'][n]['data'][x]['attributes']['bankerMultiplier']\n",
    "        id = game['id']\n",
    "        homeScore = game['attributes']['home']\n",
    "        awayScore = game['attributes']['away']\n",
    "        home_id = x + init_end\n",
    "        away_id = x + init_end*2\n",
    "        homeTeamName = preds['sol'][n]['included'][home_id]['attributes']['name']\n",
    "        awayTeamName = preds['sol'][n]['included'][away_id]['attributes']['name']\n",
    "        preds_df.loc[id, 'homeTeam'] = homeTeamName\n",
    "        preds_df.loc[id, 'awayTeam'] = awayTeamName\n",
    "        preds_df.loc[id, 'finalHomeScore'] = homeScore\n",
    "        preds_df.loc[id, 'finalAwayScore'] = awayScore\n",
    "        preds_df.loc[id, 'weekNum'] = n\n",
    "        preds_df.loc[id, 'bankerMult'] = bankerMult\n",
    "    for key, value in user_ids.items():\n",
    "        start = int(len(preds[key][n]['included'])/4)*3\n",
    "        end = len(preds[key][n]['included'])\n",
    "        for x in range(start, end):\n",
    "            game = preds[key][n]['included'][x]\n",
    "            id = game['relationships']['homeTeam']['data']['id']\n",
    "            homePred = game['attributes']['home']\n",
    "            awayPred = game['attributes']['away']\n",
    "            banker = game['attributes']['banker']\n",
    "            insurance = game['attributes']['insurance']\n",
    "            points = game['attributes']['points']\n",
    "            preds_df.loc[id, key+'HomePred'] = homePred\n",
    "            preds_df.loc[id, key+'AwayPred'] = awayPred\n",
    "            preds_df.loc[id, key+'Banker'] = banker\n",
    "            preds_df.loc[id, key+'Insurance'] = insurance\n",
    "            preds_df.loc[id, key+'Points'] = points"
   ]
  },
  {
   "cell_type": "code",
   "execution_count": 142,
   "metadata": {},
   "outputs": [
    {
     "data": {
      "text/html": [
       "<div>\n",
       "<style scoped>\n",
       "    .dataframe tbody tr th:only-of-type {\n",
       "        vertical-align: middle;\n",
       "    }\n",
       "\n",
       "    .dataframe tbody tr th {\n",
       "        vertical-align: top;\n",
       "    }\n",
       "\n",
       "    .dataframe thead th {\n",
       "        text-align: right;\n",
       "    }\n",
       "</style>\n",
       "<table border=\"1\" class=\"dataframe\">\n",
       "  <thead>\n",
       "    <tr style=\"text-align: right;\">\n",
       "      <th></th>\n",
       "      <th>homeTeam</th>\n",
       "      <th>awayTeam</th>\n",
       "      <th>finalHomeScore</th>\n",
       "      <th>finalAwayScore</th>\n",
       "      <th>solHomePred</th>\n",
       "      <th>solAwayPred</th>\n",
       "      <th>solPoints</th>\n",
       "      <th>philHomePred</th>\n",
       "      <th>philAwayPred</th>\n",
       "      <th>philPoints</th>\n",
       "      <th>...</th>\n",
       "      <th>philBanker</th>\n",
       "      <th>philInsurance</th>\n",
       "      <th>jonnyBanker</th>\n",
       "      <th>jonnyInsurance</th>\n",
       "      <th>samBanker</th>\n",
       "      <th>samInsurance</th>\n",
       "      <th>jacobBanker</th>\n",
       "      <th>jacobInsurance</th>\n",
       "      <th>lilaBanker</th>\n",
       "      <th>lilaInsurance</th>\n",
       "    </tr>\n",
       "  </thead>\n",
       "  <tbody>\n",
       "    <tr>\n",
       "      <th>dd82b17f-be03-4369-9168-4c0b4aaec006</th>\n",
       "      <td>Liverpool</td>\n",
       "      <td>Norwich City</td>\n",
       "      <td>4</td>\n",
       "      <td>1</td>\n",
       "      <td>3</td>\n",
       "      <td>0</td>\n",
       "      <td>15</td>\n",
       "      <td>3</td>\n",
       "      <td>0</td>\n",
       "      <td>15</td>\n",
       "      <td>...</td>\n",
       "      <td>False</td>\n",
       "      <td>False</td>\n",
       "      <td>True</td>\n",
       "      <td>False</td>\n",
       "      <td>True</td>\n",
       "      <td>False</td>\n",
       "      <td>True</td>\n",
       "      <td>False</td>\n",
       "      <td>True</td>\n",
       "      <td>False</td>\n",
       "    </tr>\n",
       "    <tr>\n",
       "      <th>af579519-820e-42bf-b9bd-752d81172b97</th>\n",
       "      <td>West Ham</td>\n",
       "      <td>Man City</td>\n",
       "      <td>0</td>\n",
       "      <td>5</td>\n",
       "      <td>0</td>\n",
       "      <td>2</td>\n",
       "      <td>10</td>\n",
       "      <td>1</td>\n",
       "      <td>3</td>\n",
       "      <td>10</td>\n",
       "      <td>...</td>\n",
       "      <td>False</td>\n",
       "      <td>False</td>\n",
       "      <td>False</td>\n",
       "      <td>False</td>\n",
       "      <td>False</td>\n",
       "      <td>False</td>\n",
       "      <td>False</td>\n",
       "      <td>False</td>\n",
       "      <td>False</td>\n",
       "      <td>False</td>\n",
       "    </tr>\n",
       "    <tr>\n",
       "      <th>c7990da0-bf6e-429f-9ff0-ce750ca4e593</th>\n",
       "      <td>Bournemouth</td>\n",
       "      <td>Sheffield United</td>\n",
       "      <td>1</td>\n",
       "      <td>1</td>\n",
       "      <td>1</td>\n",
       "      <td>0</td>\n",
       "      <td>-10</td>\n",
       "      <td>2</td>\n",
       "      <td>2</td>\n",
       "      <td>20</td>\n",
       "      <td>...</td>\n",
       "      <td>False</td>\n",
       "      <td>False</td>\n",
       "      <td>False</td>\n",
       "      <td>False</td>\n",
       "      <td>False</td>\n",
       "      <td>False</td>\n",
       "      <td>False</td>\n",
       "      <td>False</td>\n",
       "      <td>False</td>\n",
       "      <td>False</td>\n",
       "    </tr>\n",
       "    <tr>\n",
       "      <th>ee1899e6-aa01-4006-8f12-a214952bb4c5</th>\n",
       "      <td>Burnley</td>\n",
       "      <td>Southampton</td>\n",
       "      <td>3</td>\n",
       "      <td>0</td>\n",
       "      <td>1</td>\n",
       "      <td>1</td>\n",
       "      <td>-10</td>\n",
       "      <td>2</td>\n",
       "      <td>1</td>\n",
       "      <td>10</td>\n",
       "      <td>...</td>\n",
       "      <td>False</td>\n",
       "      <td>False</td>\n",
       "      <td>False</td>\n",
       "      <td>False</td>\n",
       "      <td>False</td>\n",
       "      <td>False</td>\n",
       "      <td>False</td>\n",
       "      <td>False</td>\n",
       "      <td>False</td>\n",
       "      <td>False</td>\n",
       "    </tr>\n",
       "    <tr>\n",
       "      <th>72d8add9-c295-4c6a-8302-3659cb2de0b0</th>\n",
       "      <td>Crystal Pal</td>\n",
       "      <td>Everton</td>\n",
       "      <td>0</td>\n",
       "      <td>0</td>\n",
       "      <td>1</td>\n",
       "      <td>1</td>\n",
       "      <td>20</td>\n",
       "      <td>0</td>\n",
       "      <td>0</td>\n",
       "      <td>30</td>\n",
       "      <td>...</td>\n",
       "      <td>False</td>\n",
       "      <td>False</td>\n",
       "      <td>False</td>\n",
       "      <td>False</td>\n",
       "      <td>False</td>\n",
       "      <td>False</td>\n",
       "      <td>False</td>\n",
       "      <td>False</td>\n",
       "      <td>False</td>\n",
       "      <td>False</td>\n",
       "    </tr>\n",
       "  </tbody>\n",
       "</table>\n",
       "<p>5 rows × 36 columns</p>\n",
       "</div>"
      ],
      "text/plain": [
       "                                         homeTeam          awayTeam  \\\n",
       "dd82b17f-be03-4369-9168-4c0b4aaec006    Liverpool      Norwich City   \n",
       "af579519-820e-42bf-b9bd-752d81172b97     West Ham          Man City   \n",
       "c7990da0-bf6e-429f-9ff0-ce750ca4e593  Bournemouth  Sheffield United   \n",
       "ee1899e6-aa01-4006-8f12-a214952bb4c5      Burnley       Southampton   \n",
       "72d8add9-c295-4c6a-8302-3659cb2de0b0  Crystal Pal           Everton   \n",
       "\n",
       "                                     finalHomeScore finalAwayScore  \\\n",
       "dd82b17f-be03-4369-9168-4c0b4aaec006              4              1   \n",
       "af579519-820e-42bf-b9bd-752d81172b97              0              5   \n",
       "c7990da0-bf6e-429f-9ff0-ce750ca4e593              1              1   \n",
       "ee1899e6-aa01-4006-8f12-a214952bb4c5              3              0   \n",
       "72d8add9-c295-4c6a-8302-3659cb2de0b0              0              0   \n",
       "\n",
       "                                     solHomePred solAwayPred solPoints  \\\n",
       "dd82b17f-be03-4369-9168-4c0b4aaec006           3           0        15   \n",
       "af579519-820e-42bf-b9bd-752d81172b97           0           2        10   \n",
       "c7990da0-bf6e-429f-9ff0-ce750ca4e593           1           0       -10   \n",
       "ee1899e6-aa01-4006-8f12-a214952bb4c5           1           1       -10   \n",
       "72d8add9-c295-4c6a-8302-3659cb2de0b0           1           1        20   \n",
       "\n",
       "                                     philHomePred philAwayPred philPoints  \\\n",
       "dd82b17f-be03-4369-9168-4c0b4aaec006            3            0         15   \n",
       "af579519-820e-42bf-b9bd-752d81172b97            1            3         10   \n",
       "c7990da0-bf6e-429f-9ff0-ce750ca4e593            2            2         20   \n",
       "ee1899e6-aa01-4006-8f12-a214952bb4c5            2            1         10   \n",
       "72d8add9-c295-4c6a-8302-3659cb2de0b0            0            0         30   \n",
       "\n",
       "                                      ... philBanker philInsurance  \\\n",
       "dd82b17f-be03-4369-9168-4c0b4aaec006  ...      False         False   \n",
       "af579519-820e-42bf-b9bd-752d81172b97  ...      False         False   \n",
       "c7990da0-bf6e-429f-9ff0-ce750ca4e593  ...      False         False   \n",
       "ee1899e6-aa01-4006-8f12-a214952bb4c5  ...      False         False   \n",
       "72d8add9-c295-4c6a-8302-3659cb2de0b0  ...      False         False   \n",
       "\n",
       "                                     jonnyBanker jonnyInsurance samBanker  \\\n",
       "dd82b17f-be03-4369-9168-4c0b4aaec006        True          False      True   \n",
       "af579519-820e-42bf-b9bd-752d81172b97       False          False     False   \n",
       "c7990da0-bf6e-429f-9ff0-ce750ca4e593       False          False     False   \n",
       "ee1899e6-aa01-4006-8f12-a214952bb4c5       False          False     False   \n",
       "72d8add9-c295-4c6a-8302-3659cb2de0b0       False          False     False   \n",
       "\n",
       "                                     samInsurance jacobBanker jacobInsurance  \\\n",
       "dd82b17f-be03-4369-9168-4c0b4aaec006        False        True          False   \n",
       "af579519-820e-42bf-b9bd-752d81172b97        False       False          False   \n",
       "c7990da0-bf6e-429f-9ff0-ce750ca4e593        False       False          False   \n",
       "ee1899e6-aa01-4006-8f12-a214952bb4c5        False       False          False   \n",
       "72d8add9-c295-4c6a-8302-3659cb2de0b0        False       False          False   \n",
       "\n",
       "                                     lilaBanker lilaInsurance  \n",
       "dd82b17f-be03-4369-9168-4c0b4aaec006       True         False  \n",
       "af579519-820e-42bf-b9bd-752d81172b97      False         False  \n",
       "c7990da0-bf6e-429f-9ff0-ce750ca4e593      False         False  \n",
       "ee1899e6-aa01-4006-8f12-a214952bb4c5      False         False  \n",
       "72d8add9-c295-4c6a-8302-3659cb2de0b0      False         False  \n",
       "\n",
       "[5 rows x 36 columns]"
      ]
     },
     "metadata": {},
     "output_type": "display_data"
    }
   ],
   "source": [
    "display(preds_df.head())"
   ]
  },
  {
   "cell_type": "markdown",
   "metadata": {},
   "source": [
    "<h1>Cleaning Dtypes</h1>"
   ]
  },
  {
   "cell_type": "code",
   "execution_count": 143,
   "metadata": {},
   "outputs": [
    {
     "name": "stdout",
     "output_type": "stream",
     "text": [
      "<class 'pandas.core.frame.DataFrame'>\n",
      "Index: 310 entries, dd82b17f-be03-4369-9168-4c0b4aaec006 to 85dc665e-fe27-4c13-92d3-e374945eb97c\n",
      "Data columns (total 36 columns):\n",
      " #   Column          Non-Null Count  Dtype  \n",
      "---  ------          --------------  -----  \n",
      " 0   homeTeam        310 non-null    object \n",
      " 1   awayTeam        310 non-null    object \n",
      " 2   finalHomeScore  310 non-null    object \n",
      " 3   finalAwayScore  310 non-null    object \n",
      " 4   solHomePred     310 non-null    object \n",
      " 5   solAwayPred     310 non-null    object \n",
      " 6   solPoints       310 non-null    object \n",
      " 7   philHomePred    310 non-null    object \n",
      " 8   philAwayPred    310 non-null    object \n",
      " 9   philPoints      310 non-null    object \n",
      " 10  jonnyHomePred   310 non-null    object \n",
      " 11  jonnyAwayPred   310 non-null    object \n",
      " 12  jonnyPoints     310 non-null    object \n",
      " 13  lilaHomePred    310 non-null    object \n",
      " 14  lilaAwayPred    310 non-null    object \n",
      " 15  lilaPoints      310 non-null    object \n",
      " 16  jacobHomePred   310 non-null    object \n",
      " 17  jacobAwayPred   310 non-null    object \n",
      " 18  jacobPoints     310 non-null    object \n",
      " 19  samHomePred     310 non-null    object \n",
      " 20  samAwayPred     310 non-null    object \n",
      " 21  samPoints       310 non-null    object \n",
      " 22  bankerMult      310 non-null    object \n",
      " 23  weekNum         310 non-null    float64\n",
      " 24  solBanker       310 non-null    object \n",
      " 25  solInsurance    310 non-null    object \n",
      " 26  philBanker      310 non-null    object \n",
      " 27  philInsurance   310 non-null    object \n",
      " 28  jonnyBanker     310 non-null    object \n",
      " 29  jonnyInsurance  310 non-null    object \n",
      " 30  samBanker       310 non-null    object \n",
      " 31  samInsurance    310 non-null    object \n",
      " 32  jacobBanker     310 non-null    object \n",
      " 33  jacobInsurance  310 non-null    object \n",
      " 34  lilaBanker      310 non-null    object \n",
      " 35  lilaInsurance   310 non-null    object \n",
      "dtypes: float64(1), object(35)\n",
      "memory usage: 99.6+ KB\n"
     ]
    }
   ],
   "source": [
    "preds_df.info()"
   ]
  },
  {
   "cell_type": "code",
   "execution_count": 144,
   "metadata": {},
   "outputs": [],
   "source": [
    "# Create convert dict\n",
    "convert_dict = {\n",
    "    'homeTeam': str,\n",
    "    'awayTeam': str,\n",
    "    'finalHomeScore': int,\n",
    "    'finalAwayScore': int,\n",
    "    'weekNum': int\n",
    "}\n",
    "for key in user_ids.keys():\n",
    "    convert_dict[key+'Banker'] = bool\n",
    "    convert_dict[key+'Insurance'] = bool\n",
    "    convert_dict[key+'Points'] = int\n",
    "    convert_dict[key+'HomePred'] = int\n",
    "    convert_dict[key+'AwayPred'] = int"
   ]
  },
  {
   "cell_type": "code",
   "execution_count": 145,
   "metadata": {},
   "outputs": [],
   "source": [
    "preds_df = preds_df.astype(convert_dict)"
   ]
  },
  {
   "cell_type": "code",
   "execution_count": 146,
   "metadata": {},
   "outputs": [],
   "source": [
    "preds_df.to_csv('2019-2020.csv')"
   ]
  },
  {
   "cell_type": "markdown",
   "metadata": {},
   "source": [
    "<h1>EDA</h1>"
   ]
  },
  {
   "cell_type": "code",
   "execution_count": 147,
   "metadata": {},
   "outputs": [],
   "source": [
    "import seaborn as sns\n",
    "import numpy as np\n",
    "statement_dict = {}"
   ]
  },
  {
   "cell_type": "markdown",
   "metadata": {},
   "source": [
    "<h2>Who had the most points during the season?</h2>"
   ]
  },
  {
   "cell_type": "code",
   "execution_count": 148,
   "metadata": {},
   "outputs": [
    {
     "data": {
      "image/png": "[encoded data removed]",
      "text/plain": [
       "<Figure size 432x288 with 1 Axes>"
      ]
     },
     "metadata": {
      "needs_background": "light"
     },
     "output_type": "display_data"
    }
   ],
   "source": [
    "for key in user_ids.keys():\n",
    "    points = preds_df.groupby('weekNum')[key+'Points'].sum().cumsum()\n",
    "    points_graph = sns.lineplot(data=points, ci='sd')\n",
    "plt.legend(user_ids.keys())\n",
    "plt.show()\n",
    "statement_dict['points_graph'] = points_graph"
   ]
  },
  {
   "cell_type": "markdown",
   "metadata": {},
   "source": [
    "<h2>Is there a difference between predicting home and away scores?</h2>"
   ]
  },
  {
   "cell_type": "code",
   "execution_count": 149,
   "metadata": {},
   "outputs": [
    {
     "name": "stdout",
     "output_type": "stream",
     "text": [
      "There is 0.967741935483871% difference between home and away predicted scores, which is insignificant\n"
     ]
    }
   ],
   "source": [
    "allHomeCorrect = []\n",
    "allAwayCorrect = []\n",
    "for key in user_ids.keys():\n",
    "    homeCorrect = preds_df['finalHomeScore'] == preds_df[key+'HomePred']\n",
    "    allHomeCorrect.append(homeCorrect.sum())\n",
    "    awayCorrect = preds_df['finalAwayScore'] == preds_df[key+'AwayPred']\n",
    "    allAwayCorrect.append(awayCorrect.sum())\n",
    "totalObservations = preds_df.shape[0]*6\n",
    "percentageDiff = (abs(sum(allHomeCorrect) - sum(allAwayCorrect))/totalObservations)*100\n",
    "home_away_pred_diff = 'There is '+str(percentageDiff)+'% difference between home and away predicted scores, which is insignificant'\n",
    "print(home_away_pred_diff)\n",
    "statement_dict['home_away_pred_diff'] = home_away_pred_diff"
   ]
  },
  {
   "cell_type": "markdown",
   "metadata": {},
   "source": [
    "<h2>Are we biased towards Arsenal?</h2>"
   ]
  },
  {
   "cell_type": "code",
   "execution_count": 150,
   "metadata": {},
   "outputs": [
    {
     "name": "stdout",
     "output_type": "stream",
     "text": [
      "sol is 6.5% biased towards Arsenal\n",
      "phil is 6.8% biased towards Arsenal\n",
      "jonny is 16.8% biased towards Arsenal\n",
      "sam is 8.2% biased towards Arsenal\n",
      "jacob is 0.7% biased towards Arsenal\n",
      "lila is 6.5% biased towards Arsenal\n"
     ]
    }
   ],
   "source": [
    "arsenalGames = preds_df.loc[(preds_df['homeTeam'] == 'Arsenal') | (preds_df['awayTeam'] == 'Arsenal')]\n",
    "nonArsenalGames = preds_df.loc[(preds_df['homeTeam'] != 'Arsenal') & (preds_df['awayTeam'] != 'Arsenal')]\n",
    "arsenal_bias_arr = []\n",
    "for key in user_ids.keys():\n",
    "    arsenalPoints = arsenalGames[key+'Points'] > 0\n",
    "    nonArsenalPoints = nonArsenalGames[key+'Points'] > 0\n",
    "    arsenalProportion = arsenalPoints.sum()/arsenalPoints.count()\n",
    "    nonArsenalProportion = nonArsenalPoints.sum()/nonArsenalPoints.count()\n",
    "    #print(key + ' gets ' + str(arsenalProportion*100) + '% of Arsenal games correct, and ' + str(nonArsenalProportion*100) + '% of non-Arsenal games correct')\n",
    "    statement = key + ' is ' + str(np.round((nonArsenalProportion - arsenalProportion)*100, 1)) + '% biased towards Arsenal'\n",
    "    print(statement)\n",
    "    arsenal_bias_arr.append(statement)\n",
    "statement_dict['arsenal_bias_arr'] = arsenal_bias_arr"
   ]
  },
  {
   "cell_type": "markdown",
   "metadata": {},
   "source": [
    "<p>Yes, we are. Currently, Jacob is the least at only 0.7% and Jonny is the most at 16.8%. The others are all between 5-9%.</p>"
   ]
  },
  {
   "cell_type": "markdown",
   "metadata": {},
   "source": [
    "<h2>Do we predict more home or away wins?</h2>"
   ]
  },
  {
   "cell_type": "code",
   "execution_count": 151,
   "metadata": {},
   "outputs": [
    {
     "name": "stdout",
     "output_type": "stream",
     "text": [
      "sol predicts 16.1% more home than away wins\n",
      "phil predicts 21.6% more home than away wins\n",
      "jonny predicts 22.3% more home than away wins\n",
      "sam predicts 23.9% more home than away wins\n",
      "jacob predicts 21.3% more home than away wins\n",
      "lila predicts 5.2% more home than away wins\n"
     ]
    }
   ],
   "source": [
    "home_away_pred_wins_arr = []\n",
    "for key in user_ids.keys():\n",
    "    homePredWin = preds_df[preds_df[key+'HomePred'] > preds_df[key+'AwayPred']]\n",
    "    awayPredWin = preds_df[preds_df[key+'HomePred'] < preds_df[key+'AwayPred']]\n",
    "    homePredWinProp = homePredWin.shape[0]/preds_df.shape[0]\n",
    "    awayPredWinProp = awayPredWin.shape[0]/preds_df.shape[0]\n",
    "    statement = key + ' predicts ' + str(np.round((homePredWinProp - awayPredWinProp)*100, 1)) + '% more home than away wins'\n",
    "    print(statement)\n",
    "    home_away_pred_wins_arr.append(statement)\n",
    "statement_dict['home_away_pred_wins_arr'] = home_away_pred_wins_arr"
   ]
  },
  {
   "cell_type": "markdown",
   "metadata": {},
   "source": [
    "<h3>Secondary question: Are more home or away predictions correct?</h3>"
   ]
  },
  {
   "cell_type": "code",
   "execution_count": 152,
   "metadata": {},
   "outputs": [
    {
     "name": "stdout",
     "output_type": "stream",
     "text": [
      "sol gets 11.4% more home preds correct than away preds\n",
      "phil gets -1.2% more home preds correct than away preds\n",
      "jonny gets 8.9% more home preds correct than away preds\n",
      "sam gets 13.7% more home preds correct than away preds\n",
      "jacob gets 4.7% more home preds correct than away preds\n",
      "lila gets 11.6% more home preds correct than away preds\n"
     ]
    }
   ],
   "source": [
    "home_away_pred_wins_correct_arr = []\n",
    "for key in user_ids.keys():\n",
    "    homePredWin = preds_df[preds_df[key+'HomePred'] > preds_df[key+'AwayPred']]\n",
    "    awayPredWin = preds_df[preds_df[key+'HomePred'] < preds_df[key+'AwayPred']]\n",
    "    homePredWinCorrect = homePredWin[key+'Points'] > 0\n",
    "    awayPredWinCorrect = awayPredWin[key+'Points'] > 0\n",
    "    homePredWinCorrectProp = homePredWinCorrect.sum()/homePredWinCorrect.count()\n",
    "    awayPredWinCorrectProp = awayPredWinCorrect.sum()/awayPredWinCorrect.count()\n",
    "    #print(key + ' gets ' + str(np.round(homePredWinCorrectProp*100,1)) + '% of home preds correct and ' + str(np.round(awayPredWinCorrectProp*100, 1)) + '% of away preds correct')\n",
    "    diffPredWinCorrectProp = homePredWinCorrectProp - awayPredWinCorrectProp\n",
    "    statement = key + ' gets ' + str(np.round(diffPredWinCorrectProp*100, 1)) + '% more home preds correct than away preds'\n",
    "    print(statement)\n",
    "    home_away_pred_wins_correct_arr.append(statement)\n",
    "statement_dict['home_away_pred_wins_correct_arr'] = home_away_pred_wins_correct_arr"
   ]
  },
  {
   "cell_type": "markdown",
   "metadata": {},
   "source": [
    "<h2>What is the most common points score?</h2>"
   ]
  },
  {
   "cell_type": "code",
   "execution_count": 153,
   "metadata": {},
   "outputs": [
    {
     "name": "stdout",
     "output_type": "stream",
     "text": [
      "sol gets a score of -10 most often\n",
      "phil gets a score of -10 most often\n",
      "jonny gets a score of -10 most often\n",
      "sam gets a score of -10 most often\n",
      "jacob gets a score of -10 most often\n",
      "lila gets a score of -10 most often\n"
     ]
    }
   ],
   "source": [
    "most_common_points_arr = []\n",
    "for key in user_ids.keys():\n",
    "    mode = preds_df[key+'Points'].mode()\n",
    "    statement = key+' gets a score of '+str(mode[0])+' most often'\n",
    "    print(statement)\n",
    "    most_common_points_arr.append(statement)\n",
    "statement_dict['most_common_points_arr'] = most_common_points_arr"
   ]
  },
  {
   "cell_type": "markdown",
   "metadata": {},
   "source": [
    "<h2>What is the most common number of home and away goals scored?</h2>"
   ]
  },
  {
   "cell_type": "code",
   "execution_count": 154,
   "metadata": {},
   "outputs": [
    {
     "name": "stdout",
     "output_type": "stream",
     "text": [
      "The most common number of home goals scored is 1\n",
      "The most common number of away goals scored is 1\n",
      "The mean number of home goals scored is 1.4967741935483871\n",
      "The mean number of away goals scored is 1.1838709677419355\n"
     ]
    }
   ],
   "source": [
    "home_mode = preds_df['finalHomeScore'].mode()[0]\n",
    "away_mode = preds_df['finalAwayScore'].mode()[0]\n",
    "home_mean = preds_df['finalHomeScore'].mean()\n",
    "away_mean = preds_df['finalAwayScore'].mean()\n",
    "home_mode_statement = 'The most common number of home goals scored is '+str(home_mode)\n",
    "away_mode_statement = 'The most common number of away goals scored is '+str(away_mode)\n",
    "home_mean_statement = 'The mean number of home goals scored is '+str(home_mean)\n",
    "away_mean_statement = 'The mean number of away goals scored is '+str(away_mean)\n",
    "print(home_mode_statement)\n",
    "print(away_mode_statement)\n",
    "print(home_mean_statement)\n",
    "print(away_mean_statement)\n",
    "statement_dict['home_mode_statement'] = home_mode_statement\n",
    "statement_dict['away_mode_statement'] = away_mode_statement\n",
    "statement_dict['home_mean_statement'] = home_mean_statement\n",
    "statement_dict['away_mean_statement'] = away_mean_statement"
   ]
  },
  {
   "cell_type": "markdown",
   "metadata": {},
   "source": [
    "This implies that the home/away goals advantage is not as significant as previously thought"
   ]
  },
  {
   "cell_type": "markdown",
   "metadata": {},
   "source": [
    "<h2>Who is best at playing their banker?</h2>"
   ]
  },
  {
   "cell_type": "code",
   "execution_count": 155,
   "metadata": {},
   "outputs": [
    {
     "name": "stdout",
     "output_type": "stream",
     "text": [
      "sol gets their bankers correct 48.1% of the time\n",
      "phil gets their bankers correct 40.7% of the time\n",
      "jonny gets their bankers correct 59.3% of the time\n",
      "sam gets their bankers correct 53.8% of the time\n",
      "jacob gets their bankers correct 80.8% of the time\n",
      "lila gets their bankers correct 53.8% of the time\n"
     ]
    }
   ],
   "source": [
    "correct_banker_arr = []\n",
    "for key in user_ids.keys():\n",
    "    bankerPlayed = preds_df[preds_df[key+'Banker']==True]\n",
    "    numberOfBankersPlayed = bankerPlayed.shape[0]\n",
    "    correctBankers = bankerPlayed[key+'Points'] > 0\n",
    "    propCorrectBankers = correctBankers.sum()/numberOfBankersPlayed\n",
    "    statement = key + ' gets their bankers correct '+str(np.round(propCorrectBankers*100, 1))+'% of the time'\n",
    "    print(statement)\n",
    "    correct_banker_arr.append(statement)\n",
    "statement_dict['correct_banker_arr'] = correct_banker_arr"
   ]
  },
  {
   "cell_type": "markdown",
   "metadata": {},
   "source": [
    "<h2>How would the league look without bankers?</h2>"
   ]
  },
  {
   "cell_type": "code",
   "execution_count": 156,
   "metadata": {},
   "outputs": [
    {
     "name": "stderr",
     "output_type": "stream",
     "text": [
      "/Users/solomonabrahams/opt/miniconda3/lib/python3.7/site-packages/pandas/core/indexing.py:966: SettingWithCopyWarning: \n",
      "A value is trying to be set on a copy of a slice from a DataFrame.\n",
      "Try using .loc[row_indexer,col_indexer] = value instead\n",
      "\n",
      "See the caveats in the documentation: https://pandas.pydata.org/pandas-docs/stable/user_guide/indexing.html#returning-a-view-versus-a-copy\n",
      "  self.obj[item] = s\n"
     ]
    }
   ],
   "source": [
    "withoutBankers = preds_df.copy()\n",
    "for key in user_ids.keys():\n",
    "    bankerPlayed = withoutBankers[withoutBankers[key+'Banker']==True]\n",
    "    bankerPlayed.loc[:,key+'Points'] = bankerPlayed.loc[:,key+'Points']/bankerPlayed.loc[:,'bankerMult']\n",
    "    withoutBankers.loc[bankerPlayed.index, key+'Points'] = bankerPlayed.loc[:, key+'Points']"
   ]
  },
  {
   "cell_type": "code",
   "execution_count": 157,
   "metadata": {},
   "outputs": [
    {
     "name": "stdout",
     "output_type": "stream",
     "text": [
      "Here is a graph and table of the current standings without banker bonuses\n"
     ]
    },
    {
     "data": {
      "image/png": "[encoded data removed]",
      "text/plain": [
       "<Figure size 432x288 with 1 Axes>"
      ]
     },
     "metadata": {
      "needs_background": "light"
     },
     "output_type": "display_data"
    },
    {
     "data": {
      "text/html": [
       "<div>\n",
       "<style scoped>\n",
       "    .dataframe tbody tr th:only-of-type {\n",
       "        vertical-align: middle;\n",
       "    }\n",
       "\n",
       "    .dataframe tbody tr th {\n",
       "        vertical-align: top;\n",
       "    }\n",
       "\n",
       "    .dataframe thead th {\n",
       "        text-align: right;\n",
       "    }\n",
       "</style>\n",
       "<table border=\"1\" class=\"dataframe\">\n",
       "  <thead>\n",
       "    <tr style=\"text-align: right;\">\n",
       "      <th></th>\n",
       "      <th>Points</th>\n",
       "    </tr>\n",
       "  </thead>\n",
       "  <tbody>\n",
       "    <tr>\n",
       "      <th>jacob</th>\n",
       "      <td>1280</td>\n",
       "    </tr>\n",
       "    <tr>\n",
       "      <th>jonny</th>\n",
       "      <td>1075</td>\n",
       "    </tr>\n",
       "    <tr>\n",
       "      <th>sam</th>\n",
       "      <td>1020</td>\n",
       "    </tr>\n",
       "    <tr>\n",
       "      <th>sol</th>\n",
       "      <td>1015</td>\n",
       "    </tr>\n",
       "    <tr>\n",
       "      <th>lila</th>\n",
       "      <td>805</td>\n",
       "    </tr>\n",
       "    <tr>\n",
       "      <th>phil</th>\n",
       "      <td>635</td>\n",
       "    </tr>\n",
       "  </tbody>\n",
       "</table>\n",
       "</div>"
      ],
      "text/plain": [
       "       Points\n",
       "jacob    1280\n",
       "jonny    1075\n",
       "sam      1020\n",
       "sol      1015\n",
       "lila      805\n",
       "phil      635"
      ]
     },
     "metadata": {},
     "output_type": "display_data"
    },
    {
     "name": "stdout",
     "output_type": "stream",
     "text": [
      "Here is a graph and table of the current standings without banker bonuses and bankers\n"
     ]
    },
    {
     "data": {
      "image/png": "[encoded data removed]",
      "text/plain": [
       "<Figure size 432x288 with 1 Axes>"
      ]
     },
     "metadata": {
      "needs_background": "light"
     },
     "output_type": "display_data"
    },
    {
     "data": {
      "text/html": [
       "<div>\n",
       "<style scoped>\n",
       "    .dataframe tbody tr th:only-of-type {\n",
       "        vertical-align: middle;\n",
       "    }\n",
       "\n",
       "    .dataframe tbody tr th {\n",
       "        vertical-align: top;\n",
       "    }\n",
       "\n",
       "    .dataframe thead th {\n",
       "        text-align: right;\n",
       "    }\n",
       "</style>\n",
       "<table border=\"1\" class=\"dataframe\">\n",
       "  <thead>\n",
       "    <tr style=\"text-align: right;\">\n",
       "      <th></th>\n",
       "      <th>Points</th>\n",
       "    </tr>\n",
       "  </thead>\n",
       "  <tbody>\n",
       "    <tr>\n",
       "      <th>sol</th>\n",
       "      <td>1020</td>\n",
       "    </tr>\n",
       "    <tr>\n",
       "      <th>sam</th>\n",
       "      <td>955</td>\n",
       "    </tr>\n",
       "    <tr>\n",
       "      <th>jonny</th>\n",
       "      <td>910</td>\n",
       "    </tr>\n",
       "    <tr>\n",
       "      <th>jacob</th>\n",
       "      <td>870</td>\n",
       "    </tr>\n",
       "    <tr>\n",
       "      <th>lila</th>\n",
       "      <td>755</td>\n",
       "    </tr>\n",
       "    <tr>\n",
       "      <th>phil</th>\n",
       "      <td>615</td>\n",
       "    </tr>\n",
       "  </tbody>\n",
       "</table>\n",
       "</div>"
      ],
      "text/plain": [
       "       Points\n",
       "sol      1020\n",
       "sam       955\n",
       "jonny     910\n",
       "jacob     870\n",
       "lila      755\n",
       "phil      615"
      ]
     },
     "metadata": {},
     "output_type": "display_data"
    }
   ],
   "source": [
    "print('Here is a graph and table of the current standings without banker bonuses')\n",
    "standings = pd.DataFrame()\n",
    "fig, ax = plt.subplots()\n",
    "for key in user_ids.keys():\n",
    "    points = preds_df.groupby('weekNum')[key+'Points'].sum()\n",
    "    graph_points = points.cumsum()\n",
    "    table_points = points.sum()\n",
    "    sns.lineplot(data=graph_points, ci='sd', ax=ax)\n",
    "    standings.loc[key,'Points'] = table_points\n",
    "plt.legend(user_ids.keys())\n",
    "plt.show()\n",
    "currentTable = standings.sort_values('Points', ascending=False).astype({'Points':int})\n",
    "display(currentTable)\n",
    "statement_dict['currentGraph'] = fig\n",
    "statement_dict['currentTable'] = currentTable\n",
    "standingsWithoutBanker = pd.DataFrame()\n",
    "print('Here is a graph and table of the current standings without banker bonuses and bankers')\n",
    "\n",
    "fig, ax = plt.subplots()\n",
    "for key in user_ids.keys():\n",
    "    points = withoutBankers.groupby('weekNum')[key+'Points'].sum()\n",
    "    graph_points = points.cumsum()\n",
    "    table_points = points.sum()\n",
    "    sns.lineplot(data=graph_points, ci='sd', ax=ax)\n",
    "    standingsWithoutBanker.loc[key,'Points'] = table_points\n",
    "plt.legend(user_ids.keys())\n",
    "plt.show()\n",
    "statement_dict['withoutBankerGraph'] = fig\n",
    "withoutBankerTable = standingsWithoutBanker.sort_values('Points', ascending=False).astype({'Points':int})\n",
    "statement_dict['withoutBankerTable'] = withoutBankerTable\n",
    "display(withoutBankerTable)"
   ]
  },
  {
   "cell_type": "markdown",
   "metadata": {},
   "source": [
    "<h2>Which team is easiest to predict the exact score for?</h2>"
   ]
  },
  {
   "cell_type": "code",
   "execution_count": 158,
   "metadata": {},
   "outputs": [
    {
     "name": "stdout",
     "output_type": "stream",
     "text": [
      "The easiest team to predict an exact result for is Liverpool\n"
     ]
    }
   ],
   "source": [
    "from scipy import stats\n",
    "team_names = []\n",
    "for key in user_ids.keys():\n",
    "    exact_preds = preds_df[preds_df[key+'Points']>25]\n",
    "    home_teams = exact_preds['homeTeam']\n",
    "    away_teams = exact_preds['awayTeam']\n",
    "    team_names = np.concatenate((team_names,home_teams.values))\n",
    "    team_names = np.concatenate((team_names, away_teams.values))\n",
    "exact_result = 'The easiest team to predict an exact result for is '+stats.mode(team_names)[0][0]\n",
    "statement_dict['exact_result'] = exact_result\n",
    "print(exact_result)"
   ]
  },
  {
   "cell_type": "code",
   "execution_count": 159,
   "metadata": {},
   "outputs": [
    {
     "name": "stdout",
     "output_type": "stream",
     "text": [
      "The easiest team to predict a correct outcome for is Liverpool\n"
     ]
    }
   ],
   "source": [
    "team_names = []\n",
    "for key in user_ids.keys():\n",
    "    exact_preds = preds_df[preds_df[key+'Points']>0]\n",
    "    home_teams = exact_preds['homeTeam']\n",
    "    away_teams = exact_preds['awayTeam']\n",
    "    team_names = np.concatenate((team_names,home_teams.values))\n",
    "    team_names = np.concatenate((team_names, away_teams.values))\n",
    "correct_outcome = 'The easiest team to predict a correct outcome for is '+stats.mode(team_names)[0][0]\n",
    "statement_dict['correct_outcome'] = correct_outcome\n",
    "print(correct_outcome)"
   ]
  },
  {
   "cell_type": "code",
   "execution_count": 160,
   "metadata": {},
   "outputs": [
    {
     "name": "stdout",
     "output_type": "stream",
     "text": [
      "The hardest team to predict a correct outcome for is Man Utd\n"
     ]
    }
   ],
   "source": [
    "team_names = []\n",
    "for key in user_ids.keys():\n",
    "    exact_preds = preds_df[preds_df[key+'Points']<5]\n",
    "    home_teams = exact_preds['homeTeam']\n",
    "    away_teams = exact_preds['awayTeam']\n",
    "    team_names = np.concatenate((team_names,home_teams.values))\n",
    "    team_names = np.concatenate((team_names, away_teams.values))\n",
    "hardest_correct_outcome = 'The hardest team to predict a correct outcome for is '+stats.mode(team_names)[0][0]\n",
    "statement_dict['hardest_correct_outcome'] = hardest_correct_outcome\n",
    "print(hardest_correct_outcome)"
   ]
  },
  {
   "cell_type": "markdown",
   "metadata": {},
   "source": [
    "<h2>Who is best at playing their insurance?</h2>"
   ]
  },
  {
   "cell_type": "code",
   "execution_count": 161,
   "metadata": {},
   "outputs": [],
   "source": [
    "best_insurance_arr = []\n",
    "for key in user_ids.keys():\n",
    "    insurancePlayed = preds_df[preds_df[key+'Insurance']==True]\n",
    "    numberOfInsurancePlayed = insurancePlayed.shape[0]\n",
    "    correctInsurance = insurancePlayed[key+'Points'] == 0\n",
    "    propCorrectInsurance = correctInsurance.sum()/numberOfInsurancePlayed\n",
    "    bestInsurance = key + ' gets their insurance prediction incorrect '+str(np.round(propCorrectInsurance*100,1))+'% of the time'\n",
    "    best_insurance_arr.append(bestInsurance)\n",
    "statement_dict['best_insurance_arr'] = best_insurance_arr"
   ]
  },
  {
   "cell_type": "code",
   "execution_count": 173,
   "metadata": {},
   "outputs": [
    {
     "data": {
      "text/markdown": [
       "points_graph"
      ],
      "text/plain": [
       "<IPython.core.display.Markdown object>"
      ]
     },
     "metadata": {},
     "output_type": "display_data"
    },
    {
     "data": {
      "text/markdown": [
       "home_away_pred_diff"
      ],
      "text/plain": [
       "<IPython.core.display.Markdown object>"
      ]
     },
     "metadata": {},
     "output_type": "display_data"
    },
    {
     "name": "stdout",
     "output_type": "stream",
     "text": [
      "There is 0.967741935483871% difference between home and away predicted scores, which is insignificant\n",
      "\n",
      "\n"
     ]
    },
    {
     "data": {
      "text/markdown": [
       "arsenal_bias_arr"
      ],
      "text/plain": [
       "<IPython.core.display.Markdown object>"
      ]
     },
     "metadata": {},
     "output_type": "display_data"
    },
    {
     "name": "stdout",
     "output_type": "stream",
     "text": [
      "Sol is 6.5% biased towards arsenal\n",
      "Phil is 6.8% biased towards arsenal\n",
      "Jonny is 16.8% biased towards arsenal\n",
      "Sam is 8.2% biased towards arsenal\n",
      "Jacob is 0.7% biased towards arsenal\n",
      "Lila is 6.5% biased towards arsenal\n",
      "\n",
      "\n"
     ]
    },
    {
     "data": {
      "text/markdown": [
       "home_away_pred_wins_arr"
      ],
      "text/plain": [
       "<IPython.core.display.Markdown object>"
      ]
     },
     "metadata": {},
     "output_type": "display_data"
    },
    {
     "name": "stdout",
     "output_type": "stream",
     "text": [
      "Sol predicts 16.1% more home than away wins\n",
      "Phil predicts 21.6% more home than away wins\n",
      "Jonny predicts 22.3% more home than away wins\n",
      "Sam predicts 23.9% more home than away wins\n",
      "Jacob predicts 21.3% more home than away wins\n",
      "Lila predicts 5.2% more home than away wins\n",
      "\n",
      "\n"
     ]
    },
    {
     "data": {
      "text/markdown": [
       "home_away_pred_wins_correct_arr"
      ],
      "text/plain": [
       "<IPython.core.display.Markdown object>"
      ]
     },
     "metadata": {},
     "output_type": "display_data"
    },
    {
     "name": "stdout",
     "output_type": "stream",
     "text": [
      "Sol gets 11.4% more home preds correct than away preds\n",
      "Phil gets -1.2% more home preds correct than away preds\n",
      "Jonny gets 8.9% more home preds correct than away preds\n",
      "Sam gets 13.7% more home preds correct than away preds\n",
      "Jacob gets 4.7% more home preds correct than away preds\n",
      "Lila gets 11.6% more home preds correct than away preds\n",
      "\n",
      "\n"
     ]
    },
    {
     "data": {
      "text/markdown": [
       "most_common_points_arr"
      ],
      "text/plain": [
       "<IPython.core.display.Markdown object>"
      ]
     },
     "metadata": {},
     "output_type": "display_data"
    },
    {
     "name": "stdout",
     "output_type": "stream",
     "text": [
      "Sol gets a score of -10 most often\n",
      "Phil gets a score of -10 most often\n",
      "Jonny gets a score of -10 most often\n",
      "Sam gets a score of -10 most often\n",
      "Jacob gets a score of -10 most often\n",
      "Lila gets a score of -10 most often\n",
      "\n",
      "\n"
     ]
    },
    {
     "data": {
      "text/markdown": [
       "home_mode_statement"
      ],
      "text/plain": [
       "<IPython.core.display.Markdown object>"
      ]
     },
     "metadata": {},
     "output_type": "display_data"
    },
    {
     "name": "stdout",
     "output_type": "stream",
     "text": [
      "The most common number of home goals scored is 1\n",
      "\n",
      "\n"
     ]
    },
    {
     "data": {
      "text/markdown": [
       "away_mode_statement"
      ],
      "text/plain": [
       "<IPython.core.display.Markdown object>"
      ]
     },
     "metadata": {},
     "output_type": "display_data"
    },
    {
     "name": "stdout",
     "output_type": "stream",
     "text": [
      "The most common number of away goals scored is 1\n",
      "\n",
      "\n"
     ]
    },
    {
     "data": {
      "text/markdown": [
       "home_mean_statement"
      ],
      "text/plain": [
       "<IPython.core.display.Markdown object>"
      ]
     },
     "metadata": {},
     "output_type": "display_data"
    },
    {
     "name": "stdout",
     "output_type": "stream",
     "text": [
      "The mean number of home goals scored is 1.4967741935483871\n",
      "\n",
      "\n"
     ]
    },
    {
     "data": {
      "text/markdown": [
       "away_mean_statement"
      ],
      "text/plain": [
       "<IPython.core.display.Markdown object>"
      ]
     },
     "metadata": {},
     "output_type": "display_data"
    },
    {
     "name": "stdout",
     "output_type": "stream",
     "text": [
      "The mean number of away goals scored is 1.1838709677419355\n",
      "\n",
      "\n"
     ]
    },
    {
     "data": {
      "text/markdown": [
       "correct_banker_arr"
      ],
      "text/plain": [
       "<IPython.core.display.Markdown object>"
      ]
     },
     "metadata": {},
     "output_type": "display_data"
    },
    {
     "name": "stdout",
     "output_type": "stream",
     "text": [
      "Sol gets their bankers correct 48.1% of the time\n",
      "Phil gets their bankers correct 40.7% of the time\n",
      "Jonny gets their bankers correct 59.3% of the time\n",
      "Sam gets their bankers correct 53.8% of the time\n",
      "Jacob gets their bankers correct 80.8% of the time\n",
      "Lila gets their bankers correct 53.8% of the time\n",
      "\n",
      "\n"
     ]
    },
    {
     "data": {
      "text/markdown": [
       "currentGraph"
      ],
      "text/plain": [
       "<IPython.core.display.Markdown object>"
      ]
     },
     "metadata": {},
     "output_type": "display_data"
    },
    {
     "data": {
      "image/png": "[encoded data removed]",
      "text/plain": [
       "<Figure size 432x288 with 1 Axes>"
      ]
     },
     "metadata": {},
     "output_type": "display_data"
    },
    {
     "name": "stdout",
     "output_type": "stream",
     "text": [
      "\n",
      "\n"
     ]
    },
    {
     "data": {
      "text/markdown": [
       "currentTable"
      ],
      "text/plain": [
       "<IPython.core.display.Markdown object>"
      ]
     },
     "metadata": {},
     "output_type": "display_data"
    },
    {
     "data": {
      "text/html": [
       "<div>\n",
       "<style scoped>\n",
       "    .dataframe tbody tr th:only-of-type {\n",
       "        vertical-align: middle;\n",
       "    }\n",
       "\n",
       "    .dataframe tbody tr th {\n",
       "        vertical-align: top;\n",
       "    }\n",
       "\n",
       "    .dataframe thead th {\n",
       "        text-align: right;\n",
       "    }\n",
       "</style>\n",
       "<table border=\"1\" class=\"dataframe\">\n",
       "  <thead>\n",
       "    <tr style=\"text-align: right;\">\n",
       "      <th></th>\n",
       "      <th>Points</th>\n",
       "    </tr>\n",
       "  </thead>\n",
       "  <tbody>\n",
       "    <tr>\n",
       "      <th>jacob</th>\n",
       "      <td>1280</td>\n",
       "    </tr>\n",
       "    <tr>\n",
       "      <th>jonny</th>\n",
       "      <td>1075</td>\n",
       "    </tr>\n",
       "    <tr>\n",
       "      <th>sam</th>\n",
       "      <td>1020</td>\n",
       "    </tr>\n",
       "    <tr>\n",
       "      <th>sol</th>\n",
       "      <td>1015</td>\n",
       "    </tr>\n",
       "    <tr>\n",
       "      <th>lila</th>\n",
       "      <td>805</td>\n",
       "    </tr>\n",
       "    <tr>\n",
       "      <th>phil</th>\n",
       "      <td>635</td>\n",
       "    </tr>\n",
       "  </tbody>\n",
       "</table>\n",
       "</div>"
      ],
      "text/plain": [
       "       Points\n",
       "jacob    1280\n",
       "jonny    1075\n",
       "sam      1020\n",
       "sol      1015\n",
       "lila      805\n",
       "phil      635"
      ]
     },
     "metadata": {},
     "output_type": "display_data"
    },
    {
     "name": "stdout",
     "output_type": "stream",
     "text": [
      "\n",
      "\n"
     ]
    },
    {
     "data": {
      "text/markdown": [
       "withoutBankerGraph"
      ],
      "text/plain": [
       "<IPython.core.display.Markdown object>"
      ]
     },
     "metadata": {},
     "output_type": "display_data"
    },
    {
     "data": {
      "image/png": "[encoded data removed]",
      "text/plain": [
       "<Figure size 432x288 with 1 Axes>"
      ]
     },
     "metadata": {},
     "output_type": "display_data"
    },
    {
     "name": "stdout",
     "output_type": "stream",
     "text": [
      "\n",
      "\n"
     ]
    },
    {
     "data": {
      "text/markdown": [
       "withoutBankerTable"
      ],
      "text/plain": [
       "<IPython.core.display.Markdown object>"
      ]
     },
     "metadata": {},
     "output_type": "display_data"
    },
    {
     "data": {
      "text/html": [
       "<div>\n",
       "<style scoped>\n",
       "    .dataframe tbody tr th:only-of-type {\n",
       "        vertical-align: middle;\n",
       "    }\n",
       "\n",
       "    .dataframe tbody tr th {\n",
       "        vertical-align: top;\n",
       "    }\n",
       "\n",
       "    .dataframe thead th {\n",
       "        text-align: right;\n",
       "    }\n",
       "</style>\n",
       "<table border=\"1\" class=\"dataframe\">\n",
       "  <thead>\n",
       "    <tr style=\"text-align: right;\">\n",
       "      <th></th>\n",
       "      <th>Points</th>\n",
       "    </tr>\n",
       "  </thead>\n",
       "  <tbody>\n",
       "    <tr>\n",
       "      <th>sol</th>\n",
       "      <td>1020</td>\n",
       "    </tr>\n",
       "    <tr>\n",
       "      <th>sam</th>\n",
       "      <td>955</td>\n",
       "    </tr>\n",
       "    <tr>\n",
       "      <th>jonny</th>\n",
       "      <td>910</td>\n",
       "    </tr>\n",
       "    <tr>\n",
       "      <th>jacob</th>\n",
       "      <td>870</td>\n",
       "    </tr>\n",
       "    <tr>\n",
       "      <th>lila</th>\n",
       "      <td>755</td>\n",
       "    </tr>\n",
       "    <tr>\n",
       "      <th>phil</th>\n",
       "      <td>615</td>\n",
       "    </tr>\n",
       "  </tbody>\n",
       "</table>\n",
       "</div>"
      ],
      "text/plain": [
       "       Points\n",
       "sol      1020\n",
       "sam       955\n",
       "jonny     910\n",
       "jacob     870\n",
       "lila      755\n",
       "phil      615"
      ]
     },
     "metadata": {},
     "output_type": "display_data"
    },
    {
     "name": "stdout",
     "output_type": "stream",
     "text": [
      "\n",
      "\n"
     ]
    },
    {
     "data": {
      "text/markdown": [
       "exact_result"
      ],
      "text/plain": [
       "<IPython.core.display.Markdown object>"
      ]
     },
     "metadata": {},
     "output_type": "display_data"
    },
    {
     "name": "stdout",
     "output_type": "stream",
     "text": [
      "The easiest team to predict an exact result for is liverpool\n",
      "\n",
      "\n"
     ]
    },
    {
     "data": {
      "text/markdown": [
       "correct_outcome"
      ],
      "text/plain": [
       "<IPython.core.display.Markdown object>"
      ]
     },
     "metadata": {},
     "output_type": "display_data"
    },
    {
     "name": "stdout",
     "output_type": "stream",
     "text": [
      "The easiest team to predict a correct outcome for is liverpool\n",
      "\n",
      "\n"
     ]
    },
    {
     "data": {
      "text/markdown": [
       "hardest_correct_outcome"
      ],
      "text/plain": [
       "<IPython.core.display.Markdown object>"
      ]
     },
     "metadata": {},
     "output_type": "display_data"
    },
    {
     "name": "stdout",
     "output_type": "stream",
     "text": [
      "The hardest team to predict a correct outcome for is man utd\n",
      "\n",
      "\n"
     ]
    },
    {
     "data": {
      "text/markdown": [
       "best_insurance_arr"
      ],
      "text/plain": [
       "<IPython.core.display.Markdown object>"
      ]
     },
     "metadata": {},
     "output_type": "display_data"
    },
    {
     "name": "stdout",
     "output_type": "stream",
     "text": [
      "Sol gets their insurance prediction incorrect 73.1% of the time\n",
      "Phil gets their insurance prediction incorrect 80.8% of the time\n",
      "Jonny gets their insurance prediction incorrect 62.5% of the time\n",
      "Sam gets their insurance prediction incorrect 65.4% of the time\n",
      "Jacob gets their insurance prediction incorrect 76.0% of the time\n",
      "Lila gets their insurance prediction incorrect 59.3% of the time\n",
      "\n",
      "\n"
     ]
    }
   ],
   "source": [
    "from IPython.display import Markdown\n",
    "\n",
    "for item in statement_dict.items():\n",
    "    title = item[0]\n",
    "    statement = item[1]\n",
    "    \n",
    "    display(Markdown(title))\n",
    "    \n",
    "    if (type(statement).__name__ == 'Figure'):\n",
    "        display(statement)\n",
    "    elif (type(statement) == str):\n",
    "        print(statement.capitalize())\n",
    "    elif (type(statement).__name__ == 'AxesSubplot'):\n",
    "        continue\n",
    "    elif (type(statement).__name__ == 'list'):\n",
    "        for x in statement:\n",
    "            print(x.capitalize())\n",
    "    elif (type(statement).__name__ == 'DataFrame'):\n",
    "        display(statement)\n",
    "    else:\n",
    "        print(type(statement).__name__)\n",
    "    \n",
    "    print('\\n')"
   ]
  },
  {
   "cell_type": "code",
   "execution_count": null,
   "metadata": {},
   "outputs": [],
   "source": []
  }
 ],
 "metadata": {
  "kernelspec": {
   "display_name": "Python 3",
   "language": "python",
   "name": "python3"
  },
  "language_info": {
   "codemirror_mode": {
    "name": "ipython",
    "version": 3
   },
   "file_extension": ".py",
   "mimetype": "text/x-python",
   "name": "python",
   "nbconvert_exporter": "python",
   "pygments_lexer": "ipython3",
   "version": "3.7.7"
  }
 },
 "nbformat": 4,
 "nbformat_minor": 4
}
